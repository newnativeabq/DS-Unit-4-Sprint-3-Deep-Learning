{
 "cells": [
  {
   "cell_type": "markdown",
   "metadata": {},
   "source": [
    "<img align=\"left\" src=\"https://lever-client-logos.s3.amazonaws.com/864372b1-534c-480e-acd5-9711f850815c-1524247202159.png\" width=200>\n",
    "<br></br>\n",
    "<br></br>\n",
    "\n",
    "# Major Neural Network Architectures Challenge\n",
    "## *Data Science Unit 4 Sprint 3 Challenge*\n",
    "\n",
    "In this sprint challenge, you'll explore some of the cutting edge of Data Science. This week we studied several famous neural network architectures: \n",
    "recurrent neural networks (RNNs), long short-term memory (LSTMs), convolutional neural networks (CNNs), and Generative Adverserial Networks (GANs). In this sprint challenge, you will revisit these models. Remember, we are testing your knowledge of these architectures not your ability to fit a model with high accuracy. \n",
    "\n",
    "__*Caution:*__  these approaches can be pretty heavy computationally. All problems were designed so that you should be able to achieve results within at most 5-10 minutes of runtime on Colab or a comparable environment. If something is running longer, doublecheck your approach!\n",
    "\n",
    "## Challenge Objectives\n",
    "*You should be able to:*\n",
    "* <a href=\"#p1\">Part 1</a>: Train a RNN classification model\n",
    "* <a href=\"#p2\">Part 2</a>: Utilize a pre-trained CNN for objective detection\n",
    "* <a href=\"#p3\">Part 3</a>: Describe the components of an autoencoder\n",
    "* <a href=\"#p4\">Part 4</a>: Describe yourself as a Data Science and elucidate your vision of AI"
   ]
  },
  {
   "cell_type": "markdown",
   "metadata": {
    "colab_type": "text",
    "id": "-5UwGRnJOmD4"
   },
   "source": [
    "<a id=\"p1\"></a>\n",
    "## Part 1 - RNNs\n",
    "\n",
    "Use an RNN/LSTM to fit a multi-class classification model on reuters news articles to distinguish topics of articles. The data is already encoded properly for use in an RNN model. \n",
    "\n",
    "Your Tasks: \n",
    "- Use Keras to fit a predictive model, classifying news articles into topics. \n",
    "- Report your overall score and accuracy\n",
    "\n",
    "For reference, the [Keras IMDB sentiment classification example](https://github.com/keras-team/keras/blob/master/examples/imdb_lstm.py) will be useful, as well the RNN code we used in class.\n",
    "\n",
    "__*Note:*__  Focus on getting a running model, not on maxing accuracy with extreme data size or epoch numbers. Only revisit and push accuracy if you get everything else done!"
   ]
  },
  {
   "cell_type": "code",
   "execution_count": 1,
   "metadata": {
    "colab": {
     "base_uri": "https://localhost:8080/",
     "height": 1114
    },
    "colab_type": "code",
    "id": "DS-9ksWjoJit",
    "outputId": "0c3512e4-5cd4-4dc6-9cda-baf00c835f59"
   },
   "outputs": [],
   "source": [
    "from tensorflow.keras.datasets import reuters\n",
    "\n",
    "(X_train, y_train), (X_test, y_test) = reuters.load_data(num_words=None,\n",
    "                                                         skip_top=0,\n",
    "                                                         maxlen=None,\n",
    "                                                         test_split=0.2,\n",
    "                                                         seed=723812,\n",
    "                                                         start_char=1,\n",
    "                                                         oov_char=2,\n",
    "                                                         index_from=3)"
   ]
  },
  {
   "cell_type": "code",
   "execution_count": 2,
   "metadata": {
    "colab": {
     "base_uri": "https://localhost:8080/",
     "height": 34
    },
    "colab_type": "code",
    "id": "fLKqFh8DovaN",
    "outputId": "64b0d621-7e74-4181-9116-406e8c518465"
   },
   "outputs": [
    {
     "name": "stdout",
     "output_type": "stream",
     "text": [
      "Iran is encoded as 779 in the data\n",
      "London is encoded as 544 in the data\n",
      "Words are encoded as numbers in our dataset.\n"
     ]
    }
   ],
   "source": [
    "# Demo of encoding\n",
    "\n",
    "word_index = reuters.get_word_index(path=\"reuters_word_index.json\")\n",
    "\n",
    "print(f\"Iran is encoded as {word_index['iran']} in the data\")\n",
    "print(f\"London is encoded as {word_index['london']} in the data\")\n",
    "print(\"Words are encoded as numbers in our dataset.\")"
   ]
  },
  {
   "cell_type": "code",
   "execution_count": 3,
   "metadata": {
    "colab": {},
    "colab_type": "code",
    "id": "_QVSlFEAqWJM"
   },
   "outputs": [
    {
     "name": "stdout",
     "output_type": "stream",
     "text": [
      "8982 train sequences\n",
      "2246 test sequences\n",
      "Pad sequences (samples x time)\n",
      "X_train shape: (8982, 200)\n",
      "X_test shape: (2246, 200)\n"
     ]
    },
    {
     "data": {
      "text/plain": [
       "(8982,)"
      ]
     },
     "metadata": {},
     "output_type": "display_data"
    },
    {
     "data": {
      "text/plain": [
       "(2246,)"
      ]
     },
     "metadata": {},
     "output_type": "display_data"
    }
   ],
   "source": [
    "from tensorflow.keras.preprocessing import sequence\n",
    "from tensorflow.keras.models import Sequential\n",
    "from tensorflow.keras.layers import Dense, Embedding, LSTM\n",
    "\n",
    "batch_size = 46\n",
    "max_features = len(word_index.values())\n",
    "maxlen = 200\n",
    "\n",
    "print(len(X_train), 'train sequences')\n",
    "print(len(X_test), 'test sequences')\n",
    "\n",
    "print('Pad sequences (samples x time)')\n",
    "X_train = sequence.pad_sequences(X_train, maxlen=maxlen)\n",
    "X_test = sequence.pad_sequences(X_test, maxlen=maxlen)\n",
    "print('X_train shape:', X_train.shape)\n",
    "print('X_test shape:', X_test.shape)\n",
    "\n",
    "display(y_train.shape, y_test.shape)"
   ]
  },
  {
   "cell_type": "code",
   "execution_count": 4,
   "metadata": {},
   "outputs": [
    {
     "data": {
      "text/plain": [
       "30978"
      ]
     },
     "execution_count": 4,
     "metadata": {},
     "output_type": "execute_result"
    }
   ],
   "source": [
    "# Max Number of Embeddings = max word id\n",
    "X_train.max()"
   ]
  },
  {
   "cell_type": "code",
   "execution_count": 5,
   "metadata": {},
   "outputs": [
    {
     "data": {
      "text/plain": [
       "array([19, 41, 16,  3,  4])"
      ]
     },
     "metadata": {},
     "output_type": "display_data"
    }
   ],
   "source": [
    "# Looking at y\n",
    "display(y_train[0:5])"
   ]
  },
  {
   "cell_type": "code",
   "execution_count": 6,
   "metadata": {},
   "outputs": [
    {
     "name": "stderr",
     "output_type": "stream",
     "text": [
      "/usr/local/lib/python3.6/dist-packages/sklearn/preprocessing/_encoders.py:415: FutureWarning: The handling of integer data will change in version 0.22. Currently, the categories are determined based on the range [0, max(values)], while in the future they will be determined based on the unique values.\n",
      "If you want the future behaviour and silence this warning, you can specify \"categories='auto'\".\n",
      "In case you used a LabelEncoder before this OneHotEncoder to convert the categories to integers, then you can now use the OneHotEncoder directly.\n",
      "  warnings.warn(msg, FutureWarning)\n"
     ]
    }
   ],
   "source": [
    "# For sparse categorical cross_entropy loss, need y to be one-hot encoded\n",
    "from sklearn.preprocessing import OneHotEncoder\n",
    "\n",
    "encoder = OneHotEncoder()\n",
    "\n",
    "y_train_oh = encoder.fit_transform(y_train.reshape(-1,1)).todense()\n",
    "y_test_oh = encoder.transform(y_test.reshape(-1,1)).todense()"
   ]
  },
  {
   "cell_type": "code",
   "execution_count": 7,
   "metadata": {},
   "outputs": [],
   "source": [
    "# Can't one-hot. Too big.  Trying to scale y\n",
    "from sklearn.preprocessing import MinMaxScaler\n",
    "\n",
    "scaler = MinMaxScaler()\n",
    "\n",
    "y_train_sc = scaler.fit_transform(y_train.reshape(-1,1))\n",
    "y_test_sc = scaler.transform(y_test.reshape(-1,1))"
   ]
  },
  {
   "cell_type": "code",
   "execution_count": null,
   "metadata": {},
   "outputs": [],
   "source": []
  },
  {
   "cell_type": "code",
   "execution_count": 11,
   "metadata": {},
   "outputs": [
    {
     "name": "stdout",
     "output_type": "stream",
     "text": [
      "Build model...\n"
     ]
    }
   ],
   "source": [
    "# Define Model\n",
    "\n",
    "# Some parameters to play around with\n",
    "batch_size = 1000\n",
    "num_classes = 1\n",
    "\n",
    "\n",
    "print('Build model...')\n",
    "model = Sequential()\n",
    "model.add(Embedding(32000, 500))\n",
    "model.add(LSTM(500))\n",
    "model.add(Dense(3, activation='relu'))\n",
    "model.add(Dense(num_classes, activation='sigmoid'))"
   ]
  },
  {
   "cell_type": "code",
   "execution_count": 12,
   "metadata": {},
   "outputs": [
    {
     "name": "stdout",
     "output_type": "stream",
     "text": [
      "Model: \"sequential_1\"\n",
      "_________________________________________________________________\n",
      "Layer (type)                 Output Shape              Param #   \n",
      "=================================================================\n",
      "embedding_1 (Embedding)      (None, None, 500)         16000000  \n",
      "_________________________________________________________________\n",
      "lstm_1 (LSTM)                (None, 500)               2002000   \n",
      "_________________________________________________________________\n",
      "dense_2 (Dense)              (None, 3)                 1503      \n",
      "_________________________________________________________________\n",
      "dense_3 (Dense)              (None, 1)                 4         \n",
      "=================================================================\n",
      "Total params: 18,003,507\n",
      "Trainable params: 18,003,507\n",
      "Non-trainable params: 0\n",
      "_________________________________________________________________\n"
     ]
    }
   ],
   "source": [
    "model.summary()"
   ]
  },
  {
   "cell_type": "code",
   "execution_count": 14,
   "metadata": {},
   "outputs": [
    {
     "name": "stdout",
     "output_type": "stream",
     "text": [
      "Train...\n",
      "Train on 8982 samples, validate on 2246 samples\n",
      "8982/8982 [==============================] - 19s 2ms/sample - loss: 0.0807 - accuracy: 0.0061 - val_loss: 0.0791 - val_accuracy: 0.0053\n"
     ]
    },
    {
     "data": {
      "text/plain": [
       "<tensorflow.python.keras.callbacks.History at 0x7fcd48687320>"
      ]
     },
     "execution_count": 14,
     "metadata": {},
     "output_type": "execute_result"
    }
   ],
   "source": [
    "# You should only run this cell once your model has been properly configured\n",
    "\n",
    "model.compile(loss='mse',\n",
    "              optimizer='adam',\n",
    "              metrics=['accuracy'])\n",
    "\n",
    "print('Train...')\n",
    "model.fit(X_train, y_train_sc,\n",
    "          batch_size=batch_size,\n",
    "          epochs=1,\n",
    "          validation_data=(X_test, y_test_sc))\n",
    "# score, acc = model.evaluate(X_test, y_test_sc,\n",
    "#                             batch_size=batch_size)\n",
    "# print('Test score:', score)\n",
    "# print('Test accuracy:', acc)"
   ]
  },
  {
   "cell_type": "code",
   "execution_count": null,
   "metadata": {},
   "outputs": [],
   "source": [
    "# About as useless as it gets"
   ]
  },
  {
   "cell_type": "markdown",
   "metadata": {},
   "source": [
    "## Sequence Data Question\n",
    "#### *Describe the `pad_sequences` method used on the training dataset. What does it do? Why do you need it?*\n",
    "\n",
    "Pad sequences creates input sequences of given length.  This is important as the the first layer expects inputs of a given size. It can truncate data, though, so care must be used in X_train prior.\n",
    "\n",
    "## RNNs versus LSTMs\n",
    "#### *What are the primary motivations behind using Long-ShortTerm Memory Cell unit over traditional Recurrent Neural Networks?*\n",
    "\n",
    "Long short term memory networks are able to maintain effects of adjustments through longer input sequences.  Otherwise, the RNN will radically alter weights when a new input sequence arrives.  This makes it very unlikely the network will learn relationships between say ten words and the next in line.\n",
    "\n",
    "## RNN / LSTM Use Cases\n",
    "#### *Name and Describe 3 Use Cases of LSTMs or RNNs and why they are suited to that use case*\n",
    "\n",
    "RNN's are used in:\n",
    "> Text and Audio predictions\n",
    "\n",
    "> Speech recognition\n",
    "\n",
    "> Generative Models"
   ]
  },
  {
   "cell_type": "code",
   "execution_count": null,
   "metadata": {},
   "outputs": [],
   "source": []
  },
  {
   "cell_type": "markdown",
   "metadata": {
    "colab_type": "text",
    "id": "yz0LCZd_O4IG"
   },
   "source": [
    "<a id=\"p2\"></a>\n",
    "## Part 2- CNNs\n",
    "\n",
    "### Find the Frog\n",
    "\n",
    "Time to play \"find the frog!\" Use Keras and ResNet50 (pre-trained) to detect which of the following images contain frogs:\n",
    "\n",
    "<img align=\"left\" src=\"https://d3i6fh83elv35t.cloudfront.net/newshour/app/uploads/2017/03/GettyImages-654745934-1024x687.jpg\" width=400>\n"
   ]
  },
  {
   "cell_type": "code",
   "execution_count": 15,
   "metadata": {
    "colab": {
     "base_uri": "https://localhost:8080/",
     "height": 245
    },
    "colab_type": "code",
    "id": "whIqEWR236Af",
    "outputId": "7a74e30d-310d-4a3a-9ae4-5bf52d137bda"
   },
   "outputs": [
    {
     "name": "stdout",
     "output_type": "stream",
     "text": [
      "Collecting google_images_download\n",
      "  Downloading https://files.pythonhosted.org/packages/18/ed/0319d30c48f3653802da8e6dcfefcea6370157d10d566ef6807cceb5ec4d/google_images_download-2.8.0.tar.gz\n",
      "Collecting selenium (from google_images_download)\n",
      "\u001b[?25l  Downloading https://files.pythonhosted.org/packages/80/d6/4294f0b4bce4de0abf13e17190289f9d0613b0a44e5dd6a7f5ca98459853/selenium-3.141.0-py2.py3-none-any.whl (904kB)\n",
      "\u001b[K     |████████████████████████████████| 911kB 15.6MB/s eta 0:00:01\n",
      "\u001b[?25hRequirement already satisfied: urllib3 in /usr/local/lib/python3.6/dist-packages (from selenium->google_images_download) (1.25.6)\n",
      "Building wheels for collected packages: google-images-download\n",
      "  Building wheel for google-images-download (setup.py) ... \u001b[?25ldone\n",
      "\u001b[?25h  Created wheel for google-images-download: filename=google_images_download-2.8.0-py2.py3-none-any.whl size=16275 sha256=7acc31ef77738f79adf02c6eb9ab569f6f7abb4c4a6dad1f40c37074ea3b9d4c\n",
      "  Stored in directory: /root/.cache/pip/wheels/1f/28/ad/f56e7061e1d2a9a1affe2f9c649c2570cb9198dd24ede0bbab\n",
      "Successfully built google-images-download\n",
      "Installing collected packages: selenium, google-images-download\n",
      "Successfully installed google-images-download-2.8.0 selenium-3.141.0\n",
      "\u001b[33mWARNING: You are using pip version 19.2.3, however version 19.3.1 is available.\n",
      "You should consider upgrading via the 'pip install --upgrade pip' command.\u001b[0m\n"
     ]
    }
   ],
   "source": [
    "!pip install google_images_download"
   ]
  },
  {
   "cell_type": "code",
   "execution_count": 17,
   "metadata": {
    "colab": {
     "base_uri": "https://localhost:8080/",
     "height": 332
    },
    "colab_type": "code",
    "id": "EKnnnM8k38sN",
    "outputId": "59f477e9-0b25-4a38-9678-af24e0176535"
   },
   "outputs": [
    {
     "name": "stdout",
     "output_type": "stream",
     "text": [
      "\n",
      "Item no.: 1 --> Item name = animal pond\n",
      "Evaluating...\n",
      "Starting Download...\n",
      "Image URL: https://pklifescience.com/staticfiles/articles/images/PKLS4116_inline.png\n",
      "Completed Image ====> 1.PKLS4116_inline.png\n",
      "Image URL: https://i.ytimg.com/vi/NCbu0TND9vE/hqdefault.jpg\n",
      "Completed Image ====> 2.hqdefault.jpg\n",
      "Image URL: https://pklifescience.com/staticfiles/articles/images/PKLS4116.png\n",
      "Completed Image ====> 3.PKLS4116.png\n",
      "Image URL: https://i.pinimg.com/originals/12/ae/e2/12aee2aa186a7b69a66563f138bba822.jpg\n",
      "Completed Image ====> 4.12aee2aa186a7b69a66563f138bba822.jpg\n",
      "Image URL: https://get.pxhere.com/photo/water-animal-pond-wildlife-mammal-fish-eat-fauna-whiskers-vertebrate-otter-mink-marmot-sea-otter-mustelidae-1383482.jpg\n",
      "Completed Image ====> 5.water-animal-pond-wildlife-mammal-fish-eat-fauna-whiskers-vertebrate-otter-mink-marmot-sea-otter-mustelidae-1383482.jpg\n",
      "Image URL: http://brookesitton.weebly.com/uploads/5/5/3/4/55348493/5415787_orig.gif\n",
      "URLError on an image...trying next one... Error: <urlopen error timed out>\n",
      "Image URL: http://www.ict.mic.ul.ie/bed3/2008_sites/bridget_osullivan/Pond%20Map.gif\n",
      "Completed Image ====> 6.Pond%20Map.gif\n",
      "Image URL: https://upload.wikimedia.org/wikipedia/commons/5/5d/Alligator_animal_on_pond.jpg\n",
      "Completed Image ====> 7.Alligator_animal_on_pond.jpg\n",
      "Image URL: https://cdn.pixabay.com/photo/2017/04/19/20/37/frog-2243543_960_720.jpg\n",
      "Completed Image ====> 8.frog-2243543_960_720.jpg\n",
      "Image URL: https://www.nwf.org/-/media/NEW-WEBSITE/Programs/Garden-for-Wildlife/amphibian_bronze-frog_Julia-Bartosh_400x267.ashx\n",
      "Invalid or missing image format. Skipping...\n",
      "Image URL: https://i.pinimg.com/736x/dd/69/c9/dd69c94f00312b5c487bf1018f38be58--vocabulary-cards-picture-cards.jpg\n",
      "Completed Image ====> 9.dd69c94f00312b5c487bf1018f38be58--vocabulary-cards-picture-cards.jpg\n",
      "Image URL: https://i.etsystatic.com/7780905/r/il/ca52bb/712049505/il_570xN.712049505_5f00.jpg\n",
      "Completed Image ====> 10.il_570xN.712049505_5f00.jpg\n",
      "Image URL: https://i.ytimg.com/vi/bUvPoQbSf1g/maxresdefault.jpg\n",
      "Completed Image ====> 11.maxresdefault.jpg\n",
      "Image URL: https://cdn.pixabay.com/photo/2014/05/24/18/20/turtles-353033_960_720.jpg\n",
      "Completed Image ====> 12.turtles-353033_960_720.jpg\n",
      "Image URL: http://www.wou.edu/~bledsoek/pond_organisms/pond_organism_list_files/image001.jpg\n",
      "Completed Image ====> 13.image001.jpg\n",
      "Image URL: https://static.wixstatic.com/media/06af3a_520769befe20425190e712b970887f1a~mv2.jpg/v1/fill/w_560,h_400,al_c,q_80,usm_0.66_1.00_0.01/06af3a_520769befe20425190e712b970887f1a~mv2.webp\n",
      "Completed Image ====> 14.06af3a_520769befe20425190e712b970887f1a~mv2.webp\n",
      "Image URL: https://furkids.org/assets/images/slideshow/A-Home-of-Our-Own-website-home-slide_Open-House3.png\n",
      "Completed Image ====> 15.A-Home-of-Our-Own-website-home-slide_Open-House3.png\n",
      "Image URL: https://images.unsplash.com/photo-1449019107430-ff886d9e0669?ixlib=rb-1.2.1&ixid=eyJhcHBfaWQiOjEyMDd9&w=1000&q=80\n",
      "Invalid or missing image format. Skipping...\n",
      "Image URL: https://sterlingshelter-animalshelterinc.netdna-ssl.com/wp-content/uploads/2019/05/koi2.jpg\n",
      "Completed Image ====> 16.koi2.jpg\n",
      "Image URL: https://www.wikihow.com/images/b/b3/Clean-a-Koi-Pond-Step-15.jpg\n",
      "Completed Image ====> 17.Clean-a-Koi-Pond-Step-15.jpg\n",
      "Image URL: https://www.scienceabc.com/wp-content/uploads/2016/10/Fishes-in-lake.jpg\n",
      "Completed Image ====> 18.Fishes-in-lake.jpg\n",
      "Image URL: https://images.theconversation.com/files/122082/original/image-20160511-18144-13dx16w.jpg?ixlib=rb-1.1.0&q=45&auto=format&w=496&fit=clip\n",
      "Completed Image ====> 19.image-20160511-18144-13dx16w.jpg\n",
      "Image URL: https://www.charlotteobserver.com/latest-news/2nbdz4/picture235873277/alternates/LANDSCAPE_768/mink4.png\n",
      "IOError on an image...trying next one... Error: The read operation timed out\n",
      "Image URL: https://static.wixstatic.com/media/06af3a_f928f31b5ee9433fae42eb9d80cb53cc~mv2.jpg/v1/fill/w_500,h_500/06af3a_f928f31b5ee9433fae42eb9d80cb53cc~mv2.jpg\n",
      "Completed Image ====> 20.06af3a_f928f31b5ee9433fae42eb9d80cb53cc~mv2.jpg\n",
      "Image URL: https://www.adn.com/resizer/1nOO52eSLXWgBYXxMGk_OXE2VDM=/1200x0/arc-anglerfish-arc2-prod-adn.s3.amazonaws.com/public/JLHY76GEO5FPDCQHJXI3O4BUYI.jpg\n",
      "Completed Image ====> 21.JLHY76GEO5FPDCQHJXI3O4BUYI.jpg\n",
      "Image URL: https://www.bedfordcountyva.gov/Home/ShowPublishedImage/6616/636342513061900000\n",
      "Invalid or missing image format. Skipping...\n",
      "Image URL: http://www.baystateaquascapes.com/files/user/fish.jpg\n",
      "Completed Image ====> 22.fish.jpg\n",
      "Image URL: https://khms0.googleapis.com/kh?v=855&hl=en-US&x=2382&y=3073&z=13\n",
      "Invalid or missing image format. Skipping...\n",
      "Image URL: https://gardenlakes.net/wp-content/uploads/2017/04/best-pond-fish-850975-960x640.jpg\n",
      "Completed Image ====> 23.best-pond-fish-850975-960x640.jpg\n",
      "Image URL: https://www.maxpixel.net/static/photo/1x/Bird-Pond-Wild-Birds-Duck-Animal-Water-Shoveler-4547418.jpg\n",
      "Completed Image ====> 24.Bird-Pond-Wild-Birds-Duck-Animal-Water-Shoveler-4547418.jpg\n",
      "Image URL: https://i.ytimg.com/vi/-RVQyaThL2E/maxresdefault.jpg\n",
      "Completed Image ====> 25.maxresdefault.jpg\n",
      "Image URL: https://www.stamfordmuseum.org/wp-content/uploads/2018/10/smnc-river-otters.jpg\n",
      "Completed Image ====> 26.smnc-river-otters.jpg\n",
      "Image URL: https://upload.wikimedia.org/wikipedia/commons/2/2d/Red-eared_Slider_Thailand.JPG\n",
      "Completed Image ====> 27.Red-eared_Slider_Thailand.JPG\n",
      "Image URL: https://www.amsterdam.nl/publish/pages/867647/zwanen2.jpg\n",
      "Completed Image ====> 28.zwanen2.jpg\n",
      "Image URL: https://content.presspage.com/uploads/2170/1920_nature-3595331-1920.jpg?10000\n",
      "Completed Image ====> 29.1920_nature-3595331-1920.jpg\n",
      "Image URL: https://www.settlerspondshelter.net/images/Pumpkins2019.jpg\n",
      "URLError on an image...trying next one... Error: <urlopen error [SSL: CERTIFICATE_VERIFY_FAILED] certificate verify failed (_ssl.c:852)>\n",
      "Image URL: https://www.denverpost.com/wp-content/uploads/2019/06/fishfloatingeverywheredead1.jpg?w=620\n",
      "Completed Image ====> 30.fishfloatingeverywheredead1.jpg\n",
      "Image URL: https://scontent.cdninstagram.com/vp/638e39205ff4664e13365f299ad4132f/5E274B91/t51.2885-15/sh0.08/e35/s640x640/70601059_548527059229889_5589664323934501671_n.jpg?_nc_ht=scontent.cdninstagram.com\n",
      "Completed Image ====> 31.70601059_548527059229889_5589664323934501671_n.jpg\n",
      "Image URL: https://s.abcnews.com/images/US/gator-03-as-ht-190920_hpEmbed_26x15_992.jpg\n",
      "Completed Image ====> 32.gator-03-as-ht-190920_hpEmbed_26x15_992.jpg\n",
      "Image URL: https://www.thesprucepets.com/thmb/AXeyG5cEqhXATBGrVu-NpyY1FL8=/960x0/filters:no_upscale():max_bytes(150000):strip_icc()/aquatic-turtles-and-outdoor-ponds-1238361-FINAL-5bacf33dc9e77c0025456661.png\n",
      "Completed Image ====> 33.aquatic-turtles-and-outdoor-ponds-1238361-FINAL-5bacf33dc9e77c0025456661.png\n",
      "Image URL: https://s3-us-west-1.amazonaws.com/contentlab.studiod/getty/37f1d57d30d74892b070208c5399348b\n",
      "Invalid or missing image format. Skipping...\n",
      "Image URL: https://www.maxpixel.net/static/photo/1x/Waterweed-Animal-Wild-Birds-Pond-Bird-Forest-4541579.jpg\n",
      "Completed Image ====> 34.Waterweed-Animal-Wild-Birds-Pond-Bird-Forest-4541579.jpg\n",
      "Image URL: https://lookaside.fbsbx.com/lookaside/crawler/media/?media_id=553096761477592\n",
      "Invalid or missing image format. Skipping...\n",
      "Image URL: https://store.starfall.com/img/products/full/NXP10_w400-h400.png\n",
      "Completed Image ====> 35.NXP10_w400-h400.png\n",
      "Image URL: https://bloximages.newyork1.vip.townnews.com/lmtribune.com/content/tncms/assets/v3/classifieds/0/4c/04c00619-d11a-548f-8e3a-a1eb0aa2888c/5da2e09f5d7e1.preview.jpg\n",
      "Completed Image ====> 36.5da2e09f5d7e1.preview.jpg\n",
      "Image URL: https://www.reptilegardens.com/assets/images/gallery/images/reptile-gardens-68523-copy-318660df65bc.jpg\n",
      "Completed Image ====> 37.reptile-gardens-68523-copy-318660df65bc.jpg\n",
      "Image URL: https://www.sun-sentinel.com/resizer/AHFc__7OAiIwl17L8Sb--vn071k=/1200x0/top/www.trbimg.com/img-5418cd7d/turbine/wsfl-koi-pond-create-thumbnail\n",
      "Invalid or missing image format. Skipping...\n",
      "Image URL: https://powermyfencing.com/wp-content/uploads/2019/06/Pond-Electric-Fence.jpg\n",
      "Completed Image ====> 38.Pond-Electric-Fence.jpg\n",
      "Image URL: https://saveagreekstray.org/media/pets/images/13-Katafygio-Oropos-09_MG_8400.jpg.430x200_q85_crop-smart_upscale.jpg\n",
      "Completed Image ====> 39.13-Katafygio-Oropos-09_MG_8400.jpg\n",
      "Image URL: http://www.wildlifeanimalcontrol.com/images/infomuskrat.jpg\n",
      "Completed Image ====> 40.infomuskrat.jpg\n",
      "Image URL: https://image.shutterstock.com/image-vector/cartoon-kids-illustration-pond-life-260nw-97205564.jpg\n",
      "Completed Image ====> 41.cartoon-kids-illustration-pond-life-260nw-97205564.jpg\n",
      "Image URL: https://faaspets.org/wp-content/uploads/HF-2019.jpg\n",
      "Completed Image ====> 42.HF-2019.jpg\n",
      "Image URL: https://khms0.googleapis.com/kh?v=855&hl=en-US&x=2374&y=3055&z=13\n",
      "Invalid or missing image format. Skipping...\n",
      "Image URL: https://s7d2.scene7.com/is/image/PetSmart/ARHERO-ASetUpGuideForNewKoiParents-20160818?$AR0301$\n",
      "Invalid or missing image format. Skipping...\n",
      "Image URL: https://www.arboretum.harvard.edu/wp-content/uploads/pond_life_04.jpg\n",
      "URLError on an image...trying next one... Error: <urlopen error [SSL: CERTIFICATE_VERIFY_FAILED] certificate verify failed (_ssl.c:852)>\n",
      "Image URL: https://www.factzoo.com/sites/all/img/reptiles/lizards/orange-crocodile-lizard-dont-intrude.jpg\n",
      "Completed Image ====> 43.orange-crocodile-lizard-dont-intrude.jpg\n",
      "Image URL: http://static-35.sinclairstoryline.com/resources/media/0147c95c-3400-4032-a47a-8f741e037231-large16x9_Koifish.JPG?1569724109469\n",
      "Completed Image ====> 44.0147c95c-3400-4032-a47a-8f741e037231-large16x9_Koifish.JPG\n",
      "Image URL: https://www.denverpost.com/wp-content/uploads/2019/06/groupsofdeadfish.jpg?w=620\n",
      "Completed Image ====> 45.groupsofdeadfish.jpg\n",
      "Image URL: https://petemporiumsc.com/wp-content/uploads/2012/09/feature_fish-02-1140x445.jpg\n",
      "Completed Image ====> 46.feature_fish-02-1140x445.jpg\n",
      "Image URL: https://m.media-amazon.com/images/S/aplus-media/vc/158f58ff-c2fc-4b53-83f7-3dacaec25141.__CR0,0,1940,600_PT0_SX970_V1___.jpg\n",
      "Completed Image ====> 47.158f58ff-c2fc-4b53-83f7-3dacaec25141.__CR0,0,1940,600_PT0_SX970_V1___.jpg\n",
      "Image URL: https://backend.kullabs.com/img/note_images/nE3UEidzQMyaI4VE.jpg\n",
      "URLError on an image...trying next one... Error: <urlopen error _ssl.c:835: The handshake operation timed out>\n",
      "Image URL: https://landscapeforlife.org/wp-content/uploads/2017/09/plant_animal.jpg\n",
      "Completed Image ====> 48.plant_animal.jpg\n",
      "Image URL: https://images.squarespace-cdn.com/content/v1/5b04c3ba75f9eea4c85743d6/1563081395762-HT16060Z3B3M5OYX1D9L/ke17ZwdGBToddI8pDm48kJanlAjKydPZDDRBEy8QTGN7gQa3H78H3Y0txjaiv_0fDoOvxcdMmMKkDsyUqMSsMWxHk725yiiHCCLfrh8O1z4YTzHvnKhyp6Da-NYroOW3ZGjoBKy3azqku80C789l0oIQXFgLwBns92kFzgG0K9id_0-BhmcFnBR1NxpidRW58DWi_C3-jlyiaXUQSM2UAg/TEACH+Aussie+Animals+Classroom+Templates-01.png?format=500w\n",
      "Completed Image ====> 49.TEACH+Aussie+Animals+Classroom+Templates-01.png\n",
      "Image URL: https://www.kidssoup.com/sites/default/files/media/Frog-activities-craft-preschool.jpg\n",
      "Completed Image ====> 50.Frog-activities-craft-preschool.jpg\n",
      "Image URL: http://www.pooltigerusa.com/img/PART_1538174824334.jpg\n",
      "Completed Image ====> 51.PART_1538174824334.jpg\n",
      "Image URL: https://images.tandf.co.uk/common/jackets/agentjpg/978042911/9780429112652.jpg\n",
      "Completed Image ====> 52.9780429112652.jpg\n",
      "Image URL: https://images.squarespace-cdn.com/content/v1/59fcc9e312abd95001b8df51/1510514993863-91H3NP54JKQQXJVXG97W/ke17ZwdGBToddI8pDm48kOMtjRLwfLqjMyRpGGiektR7gQa3H78H3Y0txjaiv_0fDoOvxcdMmMKkDsyUqMSsMWxHk725yiiHCCLfrh8O1z5QPOohDIaIeljMHgDF5CVlOqpeNLcJ80NK65_fV7S1UWvEGrGvU_VPy0C9gk7FyshFwFGhYbs2QE1NHwfctn3fcowEwzxXVWdR7oXAXSjAuQ/Shubunkins+%26+Sarassas.JPG\n",
      "Completed Image ====> 53.Shubunkins+%26+Sarassas.JPG\n",
      "Image URL: http://familypetandgarden.com/wp-content/uploads/2016/06/family-pet-koi-fish-ma.jpg\n",
      "Completed Image ====> 54.family-pet-koi-fish-ma.jpg\n",
      "Image URL: https://milwaukeedomes.org/img/animal-sponsorships.jpg\n",
      "Completed Image ====> 55.animal-sponsorships.jpg\n",
      "Image URL: https://www.funkykoi.com/wp-content/uploads/2013/06/GABRIELS.jpg\n",
      "Completed Image ====> 56.GABRIELS.jpg\n",
      "Image URL: https://petcentral.chewy.com/wp-content/uploads/koi-in-pond-1.jpg\n",
      "Completed Image ====> 57.koi-in-pond-1.jpg\n",
      "Image URL: https://lookaside.fbsbx.com/lookaside/crawler/media/?media_id=10156719114026173\n",
      "Invalid or missing image format. Skipping...\n",
      "Image URL: https://s.abcnews.com/images/US/gator-01-as-ht-190920_hpMain_4x3_992.jpg\n",
      "Completed Image ====> 58.gator-01-as-ht-190920_hpMain_4x3_992.jpg\n",
      "Image URL: https://wildlifeimages.org/wp-content/uploads/2019/04/IMG_2415.jpg\n",
      "Completed Image ====> 59.IMG_2415.jpg\n",
      "Image URL: https://www.wikihow.com/images/thumb/0/04/Get-Rid-of-Algae-in-Ponds-Step-2-Version-2.jpg/aid717614-v4-728px-Get-Rid-of-Algae-in-Ponds-Step-2-Version-2.jpg\n",
      "Completed Image ====> 60.aid717614-v4-728px-Get-Rid-of-Algae-in-Ponds-Step-2-Version-2.jpg\n",
      "Image URL: https://nationalzoo.si.edu/sites/default/files/animals/20170622_malmedia_088_0.jpg\n",
      "Completed Image ====> 61.20170622_malmedia_088_0.jpg\n",
      "Image URL: https://upload.wikimedia.org/wikipedia/commons/b/b0/Koi_feeding%2C_National_Arboretum.jpg\n",
      "Completed Image ====> 62.Koi_feeding%2C_National_Arboretum.jpg\n",
      "Image URL: http://animal-world.com/encyclo/fresh/goldfish/images/CometGoldfishWFG_P1585.jpg\n",
      "Completed Image ====> 63.CometGoldfishWFG_P1585.jpg\n",
      "Image URL: https://hoodline.imgix.net/uploads/story/image/640110/..gallery_photo_9..%253Fbust%253D1543170694.jpeg?auto=format\n",
      "Completed Image ====> 64...gallery_photo_9..%253Fbust%253D1543170694.jpeg\n",
      "Image URL: https://2.bp.blogspot.com/-cSnrgD3xlAw/W0ViXibH9vI/AAAAAAAA_YE/-Xshy-EfrIMQWEVcyf6HdNUPsu9v26mXACLcBGAs/s1600/Ponds%252C%2BLakes%252C%2Band%2BRivers-%2BPinterest%2B%25281%2529.jpg\n",
      "Completed Image ====> 65.Ponds%252C%2BLakes%252C%2Band%2BRivers-%2BPinterest%2B%25281%2529.jpg\n",
      "Image URL: https://www.fitzfishponds.com/media/koitrips-banner.jpg\n",
      "Completed Image ====> 66.koitrips-banner.jpg\n",
      "Image URL: http://rochestermaconservation.com/images/gallery/04.jpg\n",
      "Completed Image ====> 67.04.jpg\n",
      "Image URL: https://c8.alamy.com/comp/X036RA/lake-hump-swans-cygnus-olor-mother-animal-young-animals-waters-pond-animals-birds-birds-passage-gooses-birds-anseriformes-anatids-anatidae-water-birds-swans-swan-adult-boy-young-birds-young-bird-hump-swan-education-protection-inst-X036RA.jpg\n",
      "Completed Image ====> 68.lake-hump-swans-cygnus-olor-mother-animal-young-animals-waters-pond-animals-birds-birds-passage-gooses-birds-anseriformes-anatids-anatidae-water-birds-swans-swan-adult-boy-young-birds-young-bird-hump-swan-education-protection-inst-X036RA.jpg\n",
      "Image URL: https://images.saatchiart.com/saatchi/660080/art/4989023/4058845-INQOITUA-6.jpg\n",
      "Completed Image ====> 69.4058845-INQOITUA-6.jpg\n",
      "Image URL: http://www.natgeokids.com/wp-content/uploads/2017/02/turtle-facts-2.jpg\n",
      "Completed Image ====> 70.turtle-facts-2.jpg\n",
      "Image URL: https://scx1.b-cdn.net/csz/news/800/2015/1-projecttored.jpg\n",
      "Completed Image ====> 71.1-projecttored.jpg\n",
      "Image URL: https://static.wixstatic.com/media/06af3a_7ebe05ae30cd41429b3918cd3d6a34b2~mv2_d_2048_1878_s_2.jpg/v1/crop/x_0,y_138,w_2048,h_1422/fill/w_520,h_360,al_c,q_80,usm_0.66_1.00_0.01/IMG_4834.webp\n",
      "Completed Image ====> 72.IMG_4834.webp\n",
      "Image URL: https://d1lss44hh2trtw.cloudfront.net/assets/article/2018/10/28/all-legendary-animal-locations-red-dead-redemption-2_feature.jpg\n",
      "Completed Image ====> 73.all-legendary-animal-locations-red-dead-redemption-2_feature.jpg\n",
      "Image URL: https://resize.hswstatic.com/w_907/gif/koi.jpg\n",
      "Completed Image ====> 74.koi.jpg\n",
      "Image URL: https://willowridgegardencenter.com/wp-content/uploads/2016/02/pond-pic2a.jpg\n",
      "Completed Image ====> 75.pond-pic2a.jpg\n",
      "Image URL: https://www.hartz.com/wp-content/uploads/2016/11/featured_article_image_template_2000x786.jpg\n",
      "Completed Image ====> 76.featured_article_image_template_2000x786.jpg\n",
      "Image URL: https://reberranch.com/wp-content/uploads/pond-fish-turtle-1.jpg\n",
      "Completed Image ====> 77.pond-fish-turtle-1.jpg\n",
      "Image URL: https://www.scienceabc.com/wp-content/uploads/2017/09/Animals-drinking-water-from-pond_.jpg\n",
      "Completed Image ====> 78.Animals-drinking-water-from-pond_.jpg\n",
      "Image URL: https://images.theconversation.com/files/232248/original/file-20180816-2906-62hzem.jpg?ixlib=rb-1.1.0&q=45&auto=format&w=926&fit=clip\n",
      "Completed Image ====> 79.file-20180816-2906-62hzem.jpg\n",
      "Image URL: https://images.unsplash.com/photo-1485842470182-a66d7d7214f0?ixlib=rb-1.2.1&ixid=eyJhcHBfaWQiOjEyMDd9&w=1000&q=80\n",
      "Invalid or missing image format. Skipping...\n",
      "Image URL: https://www.thesprucepets.com/thmb/rfo5y6n8G0MHJbHPtkdkEeA-23I=/960x0/filters:no_upscale():max_bytes(150000):strip_icc()/GettyImages-561461945-574a20573df78ccee1de80bd.jpg\n",
      "Completed Image ====> 80.GettyImages-561461945-574a20573df78ccee1de80bd.jpg\n",
      "Image URL: http://www.beaversww.org/assets/FawnWebcpyrt_2.jpg\n",
      "Completed Image ====> 81.FawnWebcpyrt_2.jpg\n",
      "Image URL: https://i.ytimg.com/vi/eLLaAxuz91c/maxresdefault.jpg\n",
      "Completed Image ====> 82.maxresdefault.jpg\n",
      "Image URL: https://images-na.ssl-images-amazon.com/images/I/81815O5A51L._SL1500_.jpg\n",
      "Completed Image ====> 83.81815O5A51L._SL1500_.jpg\n",
      "Image URL: https://2.bp.blogspot.com/-wYFc2nn6SyE/VjW7RVWn_ZI/AAAAAAAARiw/WI0gWbSam1I/s1600/fall-shape-animal-crafts-pic-01.jpg\n",
      "Completed Image ====> 84.fall-shape-animal-crafts-pic-01.jpg\n",
      "\n",
      "\n",
      "Unfortunately all 100 could not be downloaded because some images were not downloadable. 84 is all we got for this search filter!\n",
      "\n",
      "Errors: 16\n",
      "\n"
     ]
    }
   ],
   "source": [
    "from google_images_download import google_images_download\n",
    "\n",
    "response = google_images_download.googleimagesdownload()\n",
    "arguments = {\"keywords\": \"\", \"limit\": 100, \"print_urls\": True}\n",
    "absolute_image_paths = response.download(arguments)"
   ]
  },
  {
   "cell_type": "markdown",
   "metadata": {
    "colab_type": "text",
    "id": "si5YfNqS50QU"
   },
   "source": [
    "At time of writing at least a few do, but since the Internet changes - it is possible your 5 won't. You can easily verify yourself, and (once you have working code) increase the number of images you pull to be more sure of getting a frog. Your goal is to validly run ResNet50 on the input images - don't worry about tuning or improving the model.\n",
    "\n",
    "*Hint* - ResNet 50 doesn't just return \"frog\". The three labels it has for frogs are: `bullfrog, tree frog, tailed frog`\n",
    "\n",
    "*Stretch goal* - also check for fish."
   ]
  },
  {
   "cell_type": "code",
   "execution_count": 7,
   "metadata": {
    "colab": {},
    "colab_type": "code",
    "id": "FaT07ddW3nHz"
   },
   "outputs": [],
   "source": [
    "# You've got something to do in this cell. ;)\n",
    "\n",
    "import numpy as np\n",
    "import sys\n",
    "from PIL import Image\n",
    "sys.modules['Image'] = Image \n",
    "from tensorflow.keras.applications.resnet50 import ResNet50\n",
    "from tensorflow.keras.preprocessing import image\n",
    "from tensorflow.keras.applications.resnet50 import preprocess_input, decode_predictions\n",
    "\n"
   ]
  },
  {
   "cell_type": "code",
   "execution_count": 8,
   "metadata": {},
   "outputs": [
    {
     "data": {
      "image/png": "[encoded data removed]",
      "text/plain": [
       "<PIL.Image.Image image mode=RGB size=224x224 at 0x7FDDD5F446D8>"
      ]
     },
     "execution_count": 8,
     "metadata": {},
     "output_type": "execute_result"
    }
   ],
   "source": [
    "# Fix Image Paths\n",
    "import os\n",
    "\n",
    "\n",
    "absolute_image_paths = ['downloads/animal pond/'+path for path in os.listdir('downloads/animal pond') if 'jpg' in path]\n",
    "\n",
    "# image.load_img(absolute_image_paths[0])\n",
    "\n",
    "process_img_path(absolute_image_paths[0])"
   ]
  },
  {
   "cell_type": "code",
   "execution_count": 68,
   "metadata": {},
   "outputs": [],
   "source": [
    "# Define base model so it doesn't get instantiated every time a prediction is made\n",
    "import re\n",
    "\n",
    "\n",
    "base_model = ResNet50(include_top=True, weights='imagenet')\n",
    "\n",
    "def find_frogs(decoded_array):\n",
    "    inner_list = decoded_array[0]\n",
    "    for item in inner_list:\n",
    "#         print(item)\n",
    "        frog_mentions = re.findall(\"frog\", item[1])\n",
    "        if len(frog_mentions) > 0:\n",
    "            return True\n",
    "    return False\n",
    "\n",
    "\n",
    "def process_img_path(img_path):\n",
    "    im = image.load_img(img_path, target_size=(224,224))\n",
    "    im = image.img_to_array(im)\n",
    "    im = np.expand_dims(im, axis=0)\n",
    "    processed_input = preprocess_input(im)\n",
    "    return processed_input\n",
    "\n",
    "\n",
    "def img_contains_frog(processed_img):\n",
    "    \"\"\" Scans image for Frogs\n",
    "    \n",
    "    Should return a integer with the number of frogs detected in an\n",
    "    image.\n",
    "    \n",
    "    Inputs:\n",
    "    ---------\n",
    "    img:  Precrossed image ready for prediction. The `process_img_path` function should already be applied to the image. \n",
    "    \n",
    "    Returns: \n",
    "    ---------\n",
    "    frogs (boolean):  TRUE or FALSE - There are frogs in the image.\n",
    "    \n",
    "    \"\"\"\n",
    "    # Generate Prediction and decode\n",
    "    raw_predictions = base_model.predict(processed_img)\n",
    "    decoded_predictions = decode_predictions(raw_predictions, top=20)\n",
    "    \n",
    "    # Find Frogs\n",
    "    \n",
    "            \n",
    "    return find_frogs(decoded_predictions)"
   ]
  },
  {
   "cell_type": "code",
   "execution_count": 69,
   "metadata": {},
   "outputs": [
    {
     "data": {
      "text/plain": [
       "False"
      ]
     },
     "execution_count": 69,
     "metadata": {},
     "output_type": "execute_result"
    }
   ],
   "source": [
    "img_contains_frog(\n",
    "    process_img_path(absolute_image_paths[0])\n",
    ")\n"
   ]
  },
  {
   "cell_type": "markdown",
   "metadata": {},
   "source": [
    "#### Displaying Predictions\n",
    "The next two cells are just to display some of your predictions. You will not be graded on their output. "
   ]
  },
  {
   "cell_type": "code",
   "execution_count": 70,
   "metadata": {},
   "outputs": [],
   "source": [
    "import matplotlib.pyplot as plt\n",
    "\n",
    "def display_predictions(paths):\n",
    "    image_data = []\n",
    "    frogs = []\n",
    "    for path in paths:\n",
    "        x = process_img_path(path)\n",
    "        image_data.append(x)\n",
    "        frogs.append(img_contains_frog(x))\n",
    "    \n",
    "    return image_data,frogs"
   ]
  },
  {
   "cell_type": "code",
   "execution_count": 71,
   "metadata": {},
   "outputs": [
    {
     "name": "stderr",
     "output_type": "stream",
     "text": [
      "Clipping input data to the valid range for imshow with RGB data ([0..1] for floats or [0..255] for integers).\n",
      "Clipping input data to the valid range for imshow with RGB data ([0..1] for floats or [0..255] for integers).\n",
      "Clipping input data to the valid range for imshow with RGB data ([0..1] for floats or [0..255] for integers).\n",
      "Clipping input data to the valid range for imshow with RGB data ([0..1] for floats or [0..255] for integers).\n"
     ]
    },
    {
     "data": {
      "image/png": "[encoded data removed]",
      "text/plain": [
       "<Figure size 432x288 with 4 Axes>"
      ]
     },
     "metadata": {
      "needs_background": "light"
     },
     "output_type": "display_data"
    }
   ],
   "source": [
    "f, axarr = plt.subplots(2,2)\n",
    "\n",
    "imgs, frogs = display_predictions(absolute_image_paths)\n",
    "\n",
    "for x,y in [(0,0),(0,1), (1,0), (1,1)]:  \n",
    "    axarr[x,y].imshow(np.squeeze(imgs[x], axis=0) / 255)\n",
    "    axarr[x,y].set_title(f\"Frog: {frogs[x]}\")\n",
    "    axarr[x,y].axis('off')"
   ]
  },
  {
   "cell_type": "markdown",
   "metadata": {
    "colab_type": "text",
    "id": "XEuhvSu7O5Rf"
   },
   "source": [
    "<a id=\"p3\"></a>\n",
    "## Part 3 - Autoencoders\n",
    "\n",
    "Describe a use case for an autoencoder given that an autoencoder tries to predict its own input. \n",
    "\n",
    "Autoencoders seem to be useful in creating novel noise filtering tools.  They don't seem to be particularly useful for generating data.  They may also be employed to find similar objects in a dataset where the prediction probabilities can be sorted from an input and interpreted as many things like the think that came in."
   ]
  },
  {
   "cell_type": "markdown",
   "metadata": {
    "colab_type": "text",
    "id": "626zYgjkO7Vq"
   },
   "source": [
    "<a id=\"p4\"></a>\n",
    "## Part 4 - More..."
   ]
  },
  {
   "cell_type": "markdown",
   "metadata": {
    "colab_type": "text",
    "id": "__lDWfcUO8oo"
   },
   "source": [
    "Answer the following questions, with a target audience of a fellow Data Scientist:\n",
    "\n",
    "- What do you consider your strongest area, as a Data Scientist?\n",
    "Certainly not math.  That is going to need to change.  Probably business decisions and structuring for data capture as well as understanding a bit about ML engineering.\n",
    "\n",
    "- What area of Data Science would you most like to learn more about, and why?\n",
    "I would like to know more about ML engineering.  Deploying models, updating them, maintaining them in streaming context, batch jobs, and more.  I'd also like to better understand how some of the modeling libraries work under the hood, especially on the input layers and sequence reasoning.\n",
    "\n",
    "- Where do you think Data Science will be in 5 years?\n",
    "I think AutoML will become more and more functional for answering common business decisions.  When that happens, a shift in enterprise data management and collection will likely ensue as platforms teach CTOs and marketing managers what standard data, types, and availability are needed to run tools.  I believe the platform-agnostic data collection standards will lead to a jump in importance to data engineers and pre-packaged data collection systems with AI powered dashboards (think Wordpress plugins). I don't think any massive breakthroughs in generative AI will occur.  I think personal health applications will begin to roll out and better lifestyle/business decision-making will start to create inequity between believers in the systems and non-believers.\n",
    "\n",
    "- What are the threats posed by AI to our society?\n",
    "Displacement, insecurity, and misuse are my top 3 with the latter being the biggy.  Generally, increases in productivity at home lead to economic prosperity, I think.  So firms doing more work here (even if it displaces people) will probably be a good thing.  I think construction robotics are still about 10 years away, but autonomous driving could create a massive jump in unemployment as fleets roll out replacements for human drivers. So far as misuse, I am worried that interpretation of model outputs is still not well understood (not even buy some practitioners).  Care must be taken and a different frame of mind for probabilistic interpretations is required.  Authoritarianism doesn't work when the model constantly gives you top 3 choices.  A kind of limited scope captialism may need to be employed.\n",
    "\n",
    "- How do you think we can counteract those threats? \n",
    "I think it is going to be up to the AI/ML community to create standards for interpretation as models become more used in various aspects of life.  I think pusing towards model udnerstanding and transparency is also a good thing, building tools that can help interpret the learning process at the layer-weight level.\n",
    "\n",
    "- Do you think achieving General Artifical Intelligence is ever possible?\n",
    "I think hyper-intelligence is possible.  I don't know enough about the universe, reasoning, or knowledge representation to be sure that a general learning machine will work across all domains.  It sounds plausible, but we'll see.\n"
   ]
  },
  {
   "cell_type": "markdown",
   "metadata": {
    "colab_type": "text",
    "id": "_Hoqe3mM_Mtc"
   },
   "source": [
    "## Congratulations! \n",
    "\n",
    "Thank you for your hard work, and congratulations! You've learned a lot, and you should proudly call yourself a Data Scientist.\n"
   ]
  },
  {
   "cell_type": "code",
   "execution_count": null,
   "metadata": {},
   "outputs": [],
   "source": [
    "from IPython.display import HTML\n",
    "\n",
    "HTML(\"\"\"<iframe src=\"https://giphy.com/embed/26xivLqkv86uJzqWk\" width=\"480\" height=\"270\" frameBorder=\"0\" class=\"giphy-embed\" allowFullScreen></iframe><p><a href=\"https://giphy.com/gifs/mumm-champagne-saber-26xivLqkv86uJzqWk\">via GIPHY</a></p>\"\"\")"
   ]
  }
 ],
 "metadata": {
  "accelerator": "GPU",
  "colab": {
   "collapsed_sections": [],
   "name": "LS_DS_Unit_4_Sprint_Challenge_4.ipynb",
   "provenance": [],
   "version": "0.3.2"
  },
  "kernel_info": {
   "name": "u4-s3-dnn"
  },
  "kernelspec": {
   "display_name": "Python 3",
   "language": "python",
   "name": "python3"
  },
  "language_info": {
   "codemirror_mode": {
    "name": "ipython",
    "version": 3
   },
   "file_extension": ".py",
   "mimetype": "text/x-python",
   "name": "python",
   "nbconvert_exporter": "python",
   "pygments_lexer": "ipython3",
   "version": "3.6.8"
  },
  "nteract": {
   "version": "0.15.0"
  }
 },
 "nbformat": 4,
 "nbformat_minor": 4
}
